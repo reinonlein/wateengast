{
 "cells": [
  {
   "cell_type": "markdown",
   "metadata": {},
   "source": [
    "#### Wanneer heet iedereen Willem?"
   ]
  },
  {
   "cell_type": "markdown",
   "metadata": {},
   "source": [
    "Steeds meer mensen heten Willem. Dat blijkt uit eigen observatie, gestaafd met keiharde cijfers van een paar jaar geleden door de [Nationale Voornamenbank van het Meertens Instituut](https://www.meertens.knaw.nl/nvb/naam/is/Willem. Maar hoe lang gaat het duren voordat iedereen straks Willem heet in Nederland?"
   ]
  },
  {
   "cell_type": "markdown",
   "metadata": {},
   "source": [
    "**Eerst even de imports**"
   ]
  },
  {
   "cell_type": "code",
   "execution_count": 98,
   "metadata": {},
   "outputs": [],
   "source": [
    "import pandas as pd\n",
    "import seaborn as sns\n",
    "import plotnine as p9\n",
    "import matplotlib.pyplot as plt\n",
    "%matplotlib inline"
   ]
  },
  {
   "cell_type": "markdown",
   "metadata": {},
   "source": [
    "**Correctie op de Man-Vrouwverhouding in Nederland**"
   ]
  },
  {
   "cell_type": "markdown",
   "metadata": {},
   "source": [
    "In Nederland zijn volgens het CBS iets meer vrouwen dan mannen: 8,7 miljoen vrouwen versus 8,5 miljoen mannen. Hoeveel procent is dan man en daarmee een potentiële Willem?"
   ]
  },
  {
   "cell_type": "code",
   "execution_count": 21,
   "metadata": {},
   "outputs": [
    {
     "data": {
      "text/plain": [
       "'49.4 procent'"
      ]
     },
     "execution_count": 21,
     "metadata": {},
     "output_type": "execute_result"
    }
   ],
   "source": [
    "f\"{round((8.5/(8.5+8.7)*100),1)} procent\""
   ]
  },
  {
   "cell_type": "markdown",
   "metadata": {},
   "source": [
    "Maar laat ik voor het gemak gewoon 8.5 miljoen aanhouden als het te behalen aantal Willems. In 2015 waren er dus 216, in het jaar daarop maar liefst 274. Hoeveel is het aantal Willems in een jaar gestegen? "
   ]
  },
  {
   "cell_type": "code",
   "execution_count": 29,
   "metadata": {},
   "outputs": [
    {
     "data": {
      "text/plain": [
       "'126.85185185185186 procent'"
      ]
     },
     "execution_count": 29,
     "metadata": {},
     "output_type": "execute_result"
    }
   ],
   "source": [
    "f\"{(274/216)*100} procent\""
   ]
  },
  {
   "cell_type": "markdown",
   "metadata": {},
   "source": [
    "Met deze infor en een simpel while-loopje kan je vervolgens uitrekenen in welk jaar alle 8.5 miljoen mannen Willem heten:"
   ]
  },
  {
   "cell_type": "code",
   "execution_count": 53,
   "metadata": {},
   "outputs": [],
   "source": [
    "willemtarget = 8500000\n",
    "aantalwillems = 216\n",
    "startjaar = 2015\n",
    "willemfactor = 274/216"
   ]
  },
  {
   "cell_type": "code",
   "execution_count": 74,
   "metadata": {},
   "outputs": [
    {
     "name": "stdout",
     "output_type": "stream",
     "text": [
      "In het jaar 2060 heten alle 8.5 miljoen mannen voor het eerst Willem. Aan het eind van dat jaar mogen we maar liefst 9611923 welkom heten op deze aardkloot. Hoe vet is dat?\n"
     ]
    }
   ],
   "source": [
    "willemtarget = 8500000\n",
    "aantalwillems = 216\n",
    "startjaar = 2015\n",
    "willemfactor = 274/216\n",
    "willemdict = {}\n",
    "\n",
    "while (aantalwillems <= willemtarget):\n",
    "    aantalwillems *= willemfactor\n",
    "    startjaar += 1\n",
    "    willemdict[startjaar] = aantalwillems\n",
    "    if(aantalwillems > willemtarget):\n",
    "        print(f\"In het jaar {startjaar} heten alle 8.5 miljoen mannen voor het eerst Willem. Aan het eind van dat jaar mogen we maar liefst {round(aantalwillems)} welkom heten op deze aardkloot. Hoe vet is dat?\")\n",
    "    "
   ]
  },
  {
   "cell_type": "markdown",
   "metadata": {},
   "source": [
    "**En nog even een plotje voor het idee**"
   ]
  },
  {
   "cell_type": "code",
   "execution_count": 90,
   "metadata": {},
   "outputs": [],
   "source": [
    "willemsdf = pd.DataFrame(list(willemdict.items()), columns=['Jaar', 'Aantal_Willems'])"
   ]
  },
  {
   "cell_type": "code",
   "execution_count": 113,
   "metadata": {},
   "outputs": [
    {
     "data": {
      "image/png": "[encoded data removed]",
      "text/plain": [
       "<Figure size 640x480 with 1 Axes>"
      ]
     },
     "metadata": {},
     "output_type": "display_data"
    },
    {
     "data": {
      "text/plain": [
       "<ggplot: (187102156836)>"
      ]
     },
     "execution_count": 113,
     "metadata": {},
     "output_type": "execute_result"
    }
   ],
   "source": [
    "(p9.ggplot(data=willemsdf,\n",
    "           mapping=p9.aes(x='Jaar', y='Aantal_Willems'))\n",
    "    + p9.geom_line())"
   ]
  },
  {
   "cell_type": "code",
   "execution_count": null,
   "metadata": {},
   "outputs": [],
   "source": []
  }
 ],
 "metadata": {
  "kernelspec": {
   "display_name": "Python 3",
   "language": "python",
   "name": "python3"
  },
  "language_info": {
   "codemirror_mode": {
    "name": "ipython",
    "version": 3
   },
   "file_extension": ".py",
   "mimetype": "text/x-python",
   "name": "python",
   "nbconvert_exporter": "python",
   "pygments_lexer": "ipython3",
   "version": "3.7.3"
  }
 },
 "nbformat": 4,
 "nbformat_minor": 2
}
