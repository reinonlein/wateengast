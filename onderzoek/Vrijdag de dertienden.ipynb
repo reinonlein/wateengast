{
 "cells": [
  {
   "cell_type": "code",
   "execution_count": 22,
   "metadata": {},
   "outputs": [],
   "source": [
    "import pandas as pd\n",
    "import numpy as np\n",
    "import datetime as dt"
   ]
  },
  {
   "cell_type": "code",
   "execution_count": 67,
   "metadata": {},
   "outputs": [],
   "source": [
    "verjaardag = '06-12-1983'"
   ]
  },
  {
   "cell_type": "code",
   "execution_count": 70,
   "metadata": {},
   "outputs": [
    {
     "data": {
      "text/plain": [
       "66"
      ]
     },
     "execution_count": 70,
     "metadata": {},
     "output_type": "execute_result"
    }
   ],
   "source": [
    "aantal_vrijdag_de_dertienden = len(pd.DataFrame(pd.date_range(verjaardag, pd.to_datetime('today')))\n",
    "                       .rename(columns={0: 'datum'})\n",
    "                       .assign(day_of_week = lambda d: d['datum'].dt.day_name())\n",
    "                       .assign(day = lambda d: d['datum'].dt.day)\n",
    "                       .loc[lambda d: d['day_of_week'] == 'Friday']\n",
    "                       .loc[lambda d: d['day'] == 13]\n",
    "                       )\n",
    "\n",
    "aantal_vrijdag_de_dertienden"
   ]
  },
  {
   "cell_type": "code",
   "execution_count": 79,
   "metadata": {},
   "outputs": [
    {
     "data": {
      "text/html": [
       "<div>\n",
       "<style scoped>\n",
       "    .dataframe tbody tr th:only-of-type {\n",
       "        vertical-align: middle;\n",
       "    }\n",
       "\n",
       "    .dataframe tbody tr th {\n",
       "        vertical-align: top;\n",
       "    }\n",
       "\n",
       "    .dataframe thead th {\n",
       "        text-align: right;\n",
       "    }\n",
       "</style>\n",
       "<table border=\"1\" class=\"dataframe\">\n",
       "  <thead>\n",
       "    <tr style=\"text-align: right;\">\n",
       "      <th></th>\n",
       "      <th>datum</th>\n",
       "      <th>day_of_week</th>\n",
       "      <th>day</th>\n",
       "    </tr>\n",
       "  </thead>\n",
       "  <tbody>\n",
       "    <tr>\n",
       "      <th>2588</th>\n",
       "      <td>1990-07-13</td>\n",
       "      <td>Friday</td>\n",
       "      <td>13</td>\n",
       "    </tr>\n",
       "  </tbody>\n",
       "</table>\n",
       "</div>"
      ],
      "text/plain": [
       "          datum day_of_week  day\n",
       "2588 1990-07-13      Friday   13"
      ]
     },
     "execution_count": 79,
     "metadata": {},
     "output_type": "execute_result"
    }
   ],
   "source": [
    "dertiende_vrijdag_de_dertiende = (pd.DataFrame(pd.date_range(verjaardag, pd.to_datetime('today')))\n",
    "                       .rename(columns={0: 'datum'})\n",
    "                       .assign(day_of_week = lambda d: d['datum'].dt.day_name())\n",
    "                       .assign(day = lambda d: d['datum'].dt.day)\n",
    "                       .loc[lambda d: d['day_of_week'] == 'Friday']\n",
    "                       .loc[lambda d: d['day'] == 13]\n",
    "                       ).iloc[[13]]\n",
    "\n",
    "dertiende_vrijdag_de_dertiende"
   ]
  }
 ],
 "metadata": {
  "kernelspec": {
   "display_name": "Python 3.7.3 64-bit ('base': conda)",
   "language": "python",
   "name": "python37364bitbasecondae79cfbcaf28d42f6b646100db4125f5d"
  },
  "language_info": {
   "codemirror_mode": {
    "name": "ipython",
    "version": 3
   },
   "file_extension": ".py",
   "mimetype": "text/x-python",
   "name": "python",
   "nbconvert_exporter": "python",
   "pygments_lexer": "ipython3",
   "version": "3.7.9"
  }
 },
 "nbformat": 4,
 "nbformat_minor": 4
}
