{
 "cells": [
  {
   "cell_type": "markdown",
   "metadata": {},
   "source": [
    "### Hoeveel geld is tijd?"
   ]
  },
  {
   "cell_type": "markdown",
   "metadata": {},
   "source": [
    "Als gepubliceerd op https://www.wateengast.nl/hoeveel-geld-is-tijd-dan-precies\n",
    "\n",
    "Iedereen kent wel de uitdrukking \"tijd is geld\", maar hoeveel geld is je tijd dan eigenlijk precies waard? Het is heel makkelijk om zoiets algemeens te roepen, maar zonder de harde cijfers te kennen weet je nog niet wat je precies met zo'n waarschuwing aanmoet. Dat kan anders, en dus ben ik het zelf maar eens lekker uit gaan rekenen Python Jupyter notebook.\n",
    "\n",
    "\n",
    "Om de boel een beetje actueel te houden baseer ik me op de cijfers van 2019. In dat jaar waren er 1742000 mensen en was de totale toegevoegde waarde (bbp) van ons gewerkt maar liefst 824 miljard euro. Alle cijfers lees je terug in deze publicatie van het CPB.\n",
    "\n",
    "\n",
    "Belangrijk extraatje om te weten is dat dit jaar 365 dagen telde. Een dag duurde in 2019 precies 24 uur.\n",
    "\n",
    "Vervolgens ben ik onwijs ingewikkeld aan het rekenen geslagen, en na een paar keer druk shift-enteren kwam ik erachter dat een uurtje van onze tijd in 2019 ongeveer 5 euro 41 opleverde. Hoe leuk is dat? Daar kun je toch best wat leuks voor kopen hoor.\n",
    "\n",
    "De volgende keer dat iemand zegt dat tijd geld is moet je dus gewoon terugroepen: \"Ja, dat klopt! Tijd is 5 euro 41\".\n",
    "\n",
    "\n",
    "Wel zo duidelijk.\n",
    "\n",
    "\n",
    "\n"
   ]
  },
  {
   "cell_type": "code",
   "execution_count": 2,
   "metadata": {},
   "outputs": [],
   "source": [
    "aantal_inwoners_2019 = 17420000\n",
    "bruto_nationaal_product = 823400000000"
   ]
  },
  {
   "cell_type": "code",
   "execution_count": 5,
   "metadata": {},
   "outputs": [],
   "source": [
    "toegevoegde_waarde_per_persoon_per_jaar = bruto_nationaal_product / aantal_inwoners_2019"
   ]
  },
  {
   "cell_type": "code",
   "execution_count": 7,
   "metadata": {},
   "outputs": [
    {
     "data": {
      "text/plain": [
       "129.85579288679176"
      ]
     },
     "execution_count": 7,
     "metadata": {},
     "output_type": "execute_result"
    }
   ],
   "source": [
    "toegevoegde_waarde_per_persoon_per_dag = toegevoegde_waarde_per_persoon_per_jaar / 364\n",
    "toegevoegde_waarde_per_persoon_per_dag"
   ]
  },
  {
   "cell_type": "code",
   "execution_count": 9,
   "metadata": {},
   "outputs": [
    {
     "data": {
      "text/plain": [
       "5.410658036949656"
      ]
     },
     "execution_count": 9,
     "metadata": {},
     "output_type": "execute_result"
    }
   ],
   "source": [
    "toegevoegde_waarde_per_persoon_per_uur = toegevoegde_waarde_per_persoon_per_dag / 24\n",
    "toegevoegde_waarde_per_persoon_per_uur"
   ]
  },
  {
   "cell_type": "markdown",
   "metadata": {},
   "source": [
    "bron CPB: https://www.cpb.nl/sites/default/files/omnidownload/CPB-Kerngegevenstabel-raming-maart-2019_0.pdf"
   ]
  },
  {
   "cell_type": "code",
   "execution_count": null,
   "metadata": {},
   "outputs": [],
   "source": []
  }
 ],
 "metadata": {
  "kernelspec": {
   "display_name": "Python 3",
   "language": "python",
   "name": "python3"
  },
  "language_info": {
   "codemirror_mode": {
    "name": "ipython",
    "version": 3
   },
   "file_extension": ".py",
   "mimetype": "text/x-python",
   "name": "python",
   "nbconvert_exporter": "python",
   "pygments_lexer": "ipython3",
   "version": "3.7.3"
  }
 },
 "nbformat": 4,
 "nbformat_minor": 2
}
