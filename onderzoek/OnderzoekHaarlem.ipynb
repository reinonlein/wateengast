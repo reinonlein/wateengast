{
 "cells": [
  {
   "cell_type": "code",
   "execution_count": 48,
   "metadata": {},
   "outputs": [],
   "source": [
    "import pandas as pd\n",
    "import numpy as np\n",
    "import requests\n",
    "import io\n",
    "\n",
    "url = 'https://nl.wikipedia.org/wiki/Lijst_van_landen_naar_inwonertal'\n",
    "\n",
    "proxy_dict = {\n",
    "    'http': 'proxy.ams.intra.schiphol.nl:8080',\n",
    "    'https': 'proxy.ams.intra.schiphol.nl:8080'}\n",
    "\n",
    "s = requests.get(url, proxies=proxy_dict).text\n",
    "\n",
    "df = pd.read_html(io.StringIO(s))\n",
    "\n",
    "df = df[0] #convert list to dataframe"
   ]
  },
  {
   "cell_type": "markdown",
   "metadata": {},
   "source": [
    "**Belangrijkste variabelen**"
   ]
  },
  {
   "cell_type": "markdown",
   "metadata": {},
   "source": [
    "Definieer het maximaal aantal kinderen per vierkante meter in Haarlem:"
   ]
  },
  {
   "cell_type": "code",
   "execution_count": 15,
   "metadata": {},
   "outputs": [],
   "source": [
    "aantal_kinderen_per_m2 = 11"
   ]
  },
  {
   "cell_type": "markdown",
   "metadata": {},
   "source": [
    "De totale oppervlakte in vierkante meter van de stad Haarlem, rekening houdend met het verschil tussen water en land:\n",
    "<br>*Bron: Wikipedia*"
   ]
  },
  {
   "cell_type": "code",
   "execution_count": 16,
   "metadata": {},
   "outputs": [],
   "source": [
    "oppervlakte_land = 29170000\n",
    "oppervlakte_water = 2920000\n",
    "oppervlakte_haarlem = oppervlakte_land + oppervlakte_water"
   ]
  },
  {
   "cell_type": "markdown",
   "metadata": {},
   "source": [
    "Bereken het maximaal aantal kinderen dat in Haarlem past:"
   ]
  },
  {
   "cell_type": "code",
   "execution_count": 24,
   "metadata": {},
   "outputs": [
    {
     "data": {
      "text/plain": [
       "352990000"
      ]
     },
     "execution_count": 24,
     "metadata": {},
     "output_type": "execute_result"
    }
   ],
   "source": [
    "max_kinderen = oppervlakte_haarlem * aantal_kinderen_per_m2\n",
    "max_kinderen"
   ]
  },
  {
   "cell_type": "markdown",
   "metadata": {},
   "source": [
    "Waarvan op het land:"
   ]
  },
  {
   "cell_type": "code",
   "execution_count": 23,
   "metadata": {},
   "outputs": [
    {
     "data": {
      "text/plain": [
       "320870000"
      ]
     },
     "execution_count": 23,
     "metadata": {},
     "output_type": "execute_result"
    }
   ],
   "source": [
    "max_land = oppervlakte_land * aantal_kinderen_per_m2\n",
    "max_land"
   ]
  },
  {
   "cell_type": "markdown",
   "metadata": {},
   "source": [
    "En in het water:"
   ]
  },
  {
   "cell_type": "code",
   "execution_count": 25,
   "metadata": {},
   "outputs": [
    {
     "data": {
      "text/plain": [
       "32120000"
      ]
     },
     "execution_count": 25,
     "metadata": {},
     "output_type": "execute_result"
    }
   ],
   "source": [
    "max_water = oppervlakte_water * aantal_kinderen_per_m2\n",
    "max_water"
   ]
  },
  {
   "cell_type": "markdown",
   "metadata": {},
   "source": [
    "**Data pipeline** (korte methode)"
   ]
  },
  {
   "cell_type": "code",
   "execution_count": 19,
   "metadata": {},
   "outputs": [
    {
     "data": {
      "text/html": [
       "<div>\n",
       "<style scoped>\n",
       "    .dataframe tbody tr th:only-of-type {\n",
       "        vertical-align: middle;\n",
       "    }\n",
       "\n",
       "    .dataframe tbody tr th {\n",
       "        vertical-align: top;\n",
       "    }\n",
       "\n",
       "    .dataframe thead th {\n",
       "        text-align: right;\n",
       "    }\n",
       "</style>\n",
       "<table border=\"1\" class=\"dataframe\">\n",
       "  <thead>\n",
       "    <tr style=\"text-align: right;\">\n",
       "      <th></th>\n",
       "      <th>Land</th>\n",
       "      <th>Inwonersaantal</th>\n",
       "    </tr>\n",
       "  </thead>\n",
       "  <tbody>\n",
       "    <tr>\n",
       "      <th>1</th>\n",
       "      <td>China</td>\n",
       "      <td>1379302771</td>\n",
       "    </tr>\n",
       "    <tr>\n",
       "      <th>2</th>\n",
       "      <td>India</td>\n",
       "      <td>1281935911</td>\n",
       "    </tr>\n",
       "    <tr>\n",
       "      <th>3</th>\n",
       "      <td>Verenigde Staten</td>\n",
       "      <td>326625791</td>\n",
       "    </tr>\n",
       "    <tr>\n",
       "      <th>4</th>\n",
       "      <td>Indonesië</td>\n",
       "      <td>260580739</td>\n",
       "    </tr>\n",
       "    <tr>\n",
       "      <th>5</th>\n",
       "      <td>Brazilië</td>\n",
       "      <td>207353391</td>\n",
       "    </tr>\n",
       "  </tbody>\n",
       "</table>\n",
       "</div>"
      ],
      "text/plain": [
       "               Land  Inwonersaantal\n",
       "1             China      1379302771\n",
       "2             India      1281935911\n",
       "3  Verenigde Staten       326625791\n",
       "4         Indonesië       260580739\n",
       "5          Brazilië       207353391"
      ]
     },
     "execution_count": 19,
     "metadata": {},
     "output_type": "execute_result"
    }
   ],
   "source": [
    "def data_fixen(df): \n",
    "    return (df\n",
    "            .copy()\n",
    "            .rename(columns=dict(df.iloc[0]))                            # first row as header\n",
    "            .iloc[1:]                                                    # remove obsolete header row\n",
    "            .loc[lambda d: d['Land'] != 'Noord-Macedonië']               # corrupted count\n",
    "            .assign(Inwonersaantal=lambda d: d['Inwonertal'] \\\n",
    "            .str.replace(\".\", \"\").str.split().str[0].astype(int))        # fix datatype and formatting\n",
    "            .drop(columns=['Nr','Inwonertal'])                           # skip abundant info\n",
    "           )\n",
    "\n",
    "inwoners = data_fixen(df)\n",
    "\n",
    "inwoners.head()"
   ]
  },
  {
   "cell_type": "markdown",
   "metadata": {},
   "source": [
    "**Analyse vergelijking**"
   ]
  },
  {
   "cell_type": "code",
   "execution_count": 42,
   "metadata": {},
   "outputs": [],
   "source": [
    "haarlem_df = inwoners.copy()\n",
    "haarlem_df['haarlem'] = abs(haarlem_df['Inwonersaantal'] - max_kinderen)\n",
    "haarlem_df['land'] = abs(haarlem_df['Inwonersaantal'] - max_land)\n",
    "haarlem_df['water'] = abs(haarlem_df['Inwonersaantal'] - max_water)"
   ]
  },
  {
   "cell_type": "markdown",
   "metadata": {},
   "source": [
    "Land waarvan het aantal inwoners nog het meeste lijkt op het maximum aantal kinderen dat in Haarlem past:"
   ]
  },
  {
   "cell_type": "code",
   "execution_count": 43,
   "metadata": {},
   "outputs": [
    {
     "data": {
      "text/html": [
       "<div>\n",
       "<style scoped>\n",
       "    .dataframe tbody tr th:only-of-type {\n",
       "        vertical-align: middle;\n",
       "    }\n",
       "\n",
       "    .dataframe tbody tr th {\n",
       "        vertical-align: top;\n",
       "    }\n",
       "\n",
       "    .dataframe thead th {\n",
       "        text-align: right;\n",
       "    }\n",
       "</style>\n",
       "<table border=\"1\" class=\"dataframe\">\n",
       "  <thead>\n",
       "    <tr style=\"text-align: right;\">\n",
       "      <th></th>\n",
       "      <th>Land</th>\n",
       "      <th>Inwonersaantal</th>\n",
       "    </tr>\n",
       "  </thead>\n",
       "  <tbody>\n",
       "    <tr>\n",
       "      <th>3</th>\n",
       "      <td>Verenigde Staten</td>\n",
       "      <td>326625791</td>\n",
       "    </tr>\n",
       "  </tbody>\n",
       "</table>\n",
       "</div>"
      ],
      "text/plain": [
       "               Land  Inwonersaantal\n",
       "3  Verenigde Staten       326625791"
      ]
     },
     "execution_count": 43,
     "metadata": {},
     "output_type": "execute_result"
    }
   ],
   "source": [
    "haarlem_df[haarlem_df['haarlem'] == min(abs(haarlem_df['Inwonersaantal'] - max_kinderen))][['Land', 'Inwonersaantal']]"
   ]
  },
  {
   "cell_type": "markdown",
   "metadata": {},
   "source": [
    "Alleen op het land:"
   ]
  },
  {
   "cell_type": "code",
   "execution_count": 44,
   "metadata": {},
   "outputs": [
    {
     "data": {
      "text/html": [
       "<div>\n",
       "<style scoped>\n",
       "    .dataframe tbody tr th:only-of-type {\n",
       "        vertical-align: middle;\n",
       "    }\n",
       "\n",
       "    .dataframe tbody tr th {\n",
       "        vertical-align: top;\n",
       "    }\n",
       "\n",
       "    .dataframe thead th {\n",
       "        text-align: right;\n",
       "    }\n",
       "</style>\n",
       "<table border=\"1\" class=\"dataframe\">\n",
       "  <thead>\n",
       "    <tr style=\"text-align: right;\">\n",
       "      <th></th>\n",
       "      <th>Land</th>\n",
       "      <th>Inwonersaantal</th>\n",
       "    </tr>\n",
       "  </thead>\n",
       "  <tbody>\n",
       "    <tr>\n",
       "      <th>3</th>\n",
       "      <td>Verenigde Staten</td>\n",
       "      <td>326625791</td>\n",
       "    </tr>\n",
       "  </tbody>\n",
       "</table>\n",
       "</div>"
      ],
      "text/plain": [
       "               Land  Inwonersaantal\n",
       "3  Verenigde Staten       326625791"
      ]
     },
     "execution_count": 44,
     "metadata": {},
     "output_type": "execute_result"
    }
   ],
   "source": [
    "haarlem_df[haarlem_df['land'] == min(abs(haarlem_df['Inwonersaantal'] - max_land))][['Land', 'Inwonersaantal']]"
   ]
  },
  {
   "cell_type": "markdown",
   "metadata": {},
   "source": [
    "En op het water:"
   ]
  },
  {
   "cell_type": "code",
   "execution_count": 46,
   "metadata": {},
   "outputs": [
    {
     "data": {
      "text/html": [
       "<div>\n",
       "<style scoped>\n",
       "    .dataframe tbody tr th:only-of-type {\n",
       "        vertical-align: middle;\n",
       "    }\n",
       "\n",
       "    .dataframe tbody tr th {\n",
       "        vertical-align: top;\n",
       "    }\n",
       "\n",
       "    .dataframe thead th {\n",
       "        text-align: right;\n",
       "    }\n",
       "</style>\n",
       "<table border=\"1\" class=\"dataframe\">\n",
       "  <thead>\n",
       "    <tr style=\"text-align: right;\">\n",
       "      <th></th>\n",
       "      <th>Land</th>\n",
       "      <th>Inwonersaantal</th>\n",
       "    </tr>\n",
       "  </thead>\n",
       "  <tbody>\n",
       "    <tr>\n",
       "      <th>41</th>\n",
       "      <td>Maleisië</td>\n",
       "      <td>31381992</td>\n",
       "    </tr>\n",
       "  </tbody>\n",
       "</table>\n",
       "</div>"
      ],
      "text/plain": [
       "        Land  Inwonersaantal\n",
       "41  Maleisië        31381992"
      ]
     },
     "execution_count": 46,
     "metadata": {},
     "output_type": "execute_result"
    }
   ],
   "source": [
    "haarlem_df[haarlem_df['water'] == min(abs(haarlem_df['Inwonersaantal'] - max_water))][['Land', 'Inwonersaantal']]"
   ]
  },
  {
   "cell_type": "markdown",
   "metadata": {},
   "source": [
    "En schrijf een nonsensverhaal voor Wateengast:"
   ]
  },
  {
   "cell_type": "markdown",
   "metadata": {},
   "source": [
    "<< url naar wateengast.nl >>"
   ]
  },
  {
   "cell_type": "markdown",
   "metadata": {},
   "source": [
    "**Toegift: een alternatieve datapipeline** (deze is beter schaalbaar als de boel wat complexer wordt)"
   ]
  },
  {
   "cell_type": "code",
   "execution_count": 47,
   "metadata": {},
   "outputs": [
    {
     "data": {
      "text/html": [
       "<div>\n",
       "<style scoped>\n",
       "    .dataframe tbody tr th:only-of-type {\n",
       "        vertical-align: middle;\n",
       "    }\n",
       "\n",
       "    .dataframe tbody tr th {\n",
       "        vertical-align: top;\n",
       "    }\n",
       "\n",
       "    .dataframe thead th {\n",
       "        text-align: right;\n",
       "    }\n",
       "</style>\n",
       "<table border=\"1\" class=\"dataframe\">\n",
       "  <thead>\n",
       "    <tr style=\"text-align: right;\">\n",
       "      <th></th>\n",
       "      <th>Land</th>\n",
       "      <th>Inwonersaantal</th>\n",
       "    </tr>\n",
       "  </thead>\n",
       "  <tbody>\n",
       "    <tr>\n",
       "      <th>1</th>\n",
       "      <td>China</td>\n",
       "      <td>1379302771</td>\n",
       "    </tr>\n",
       "    <tr>\n",
       "      <th>2</th>\n",
       "      <td>India</td>\n",
       "      <td>1281935911</td>\n",
       "    </tr>\n",
       "    <tr>\n",
       "      <th>3</th>\n",
       "      <td>Verenigde Staten</td>\n",
       "      <td>326625791</td>\n",
       "    </tr>\n",
       "    <tr>\n",
       "      <th>4</th>\n",
       "      <td>Indonesië</td>\n",
       "      <td>260580739</td>\n",
       "    </tr>\n",
       "    <tr>\n",
       "      <th>5</th>\n",
       "      <td>Brazilië</td>\n",
       "      <td>207353391</td>\n",
       "    </tr>\n",
       "  </tbody>\n",
       "</table>\n",
       "</div>"
      ],
      "text/plain": [
       "               Land  Inwonersaantal\n",
       "1             China      1379302771\n",
       "2             India      1281935911\n",
       "3  Verenigde Staten       326625791\n",
       "4         Indonesië       260580739\n",
       "5          Brazilië       207353391"
      ]
     },
     "execution_count": 47,
     "metadata": {},
     "output_type": "execute_result"
    }
   ],
   "source": [
    "def start_pipeline(df):\n",
    "    return df.copy()\n",
    "\n",
    "def fix_headers(df):\n",
    "    return (df\n",
    "           .rename(columns=dict(df.iloc[0])) # first row as header\n",
    "           .iloc[1:] # remove obsolete header row\n",
    "           )\n",
    "\n",
    "def fix_rows(df):\n",
    "    return (df\n",
    "           .loc[lambda d: d['Land'] != 'Noord-Macedonië'] # corrupted count\n",
    "           )\n",
    "        \n",
    "def fix_columns(df):\n",
    "    return (df\n",
    "           .assign(Inwonersaantal=lambda d: d['Inwonertal'].str.replace(\".\", \"\").str.split().str[0].astype(int))\n",
    "           .drop(columns=['Nr','Inwonertal'])\n",
    "           )\n",
    "\n",
    "inwoners = (df\n",
    "           .pipe(start_pipeline)\n",
    "           .pipe(fix_headers)\n",
    "           .pipe(fix_rows)\n",
    "           .pipe(fix_columns)\n",
    "           )\n",
    "\n",
    "inwoners.head()"
   ]
  }
 ],
 "metadata": {
  "kernelspec": {
   "display_name": "Python 3",
   "language": "python",
   "name": "python3"
  },
  "language_info": {
   "codemirror_mode": {
    "name": "ipython",
    "version": 3
   },
   "file_extension": ".py",
   "mimetype": "text/x-python",
   "name": "python",
   "nbconvert_exporter": "python",
   "pygments_lexer": "ipython3",
   "version": "3.7.0"
  }
 },
 "nbformat": 4,
 "nbformat_minor": 2
}
